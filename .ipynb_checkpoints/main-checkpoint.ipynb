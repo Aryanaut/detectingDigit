{
 "cells": [
  {
   "cell_type": "markdown",
   "metadata": {
    "colab_type": "text",
    "id": "view-in-github"
   },
   "source": [
    "<a href=\"https://colab.research.google.com/github/Aryanaut/detectingDigit/blob/main/prediction.ipynb\" target=\"_parent\"><img src=\"https://colab.research.google.com/assets/colab-badge.svg\" alt=\"Open In Colab\"/></a>"
   ]
  },
  {
   "cell_type": "code",
   "execution_count": 2,
   "metadata": {
    "id": "FodW_T4pfxeN"
   },
   "outputs": [],
   "source": [
    "import numpy as np\n",
    "import cv2\n",
    "import matplotlib.pyplot as plt\n",
    "import tensorflow as tf"
   ]
  },
  {
   "cell_type": "code",
   "execution_count": 3,
   "metadata": {
    "colab": {
     "base_uri": "https://localhost:8080/"
    },
    "id": "PyE9aBc5f1NQ",
    "outputId": "59d2fa4b-eb6e-476d-9de1-9d77cc88887a"
   },
   "outputs": [],
   "source": [
    "mnist = tf.keras.datasets.mnist \n",
    "(x_train, y_train),(x_test, y_test) = mnist.load_data() "
   ]
  },
  {
   "cell_type": "markdown",
   "metadata": {},
   "source": [
    "## Training the model"
   ]
  },
  {
   "cell_type": "code",
   "execution_count": 4,
   "metadata": {
    "colab": {
     "base_uri": "https://localhost:8080/",
     "height": 265
    },
    "id": "0apSBJ9lgWfr",
    "outputId": "c00e2afe-7618-4d5b-f3dc-ba34b36f3560"
   },
   "outputs": [
    {
     "data": {
      "image/png": "[encoded data removed]",
      "text/plain": [
       "<Figure size 432x288 with 1 Axes>"
      ]
     },
     "metadata": {
      "needs_background": "light"
     },
     "output_type": "display_data"
    }
   ],
   "source": [
    "plt.imshow(x_train[0], cmap=\"gray\") \n",
    "plt.show() "
   ]
  },
  {
   "cell_type": "code",
   "execution_count": 5,
   "metadata": {
    "id": "lG9d5bx6gY-O"
   },
   "outputs": [
    {
     "data": {
      "image/png": "[encoded data removed]",
      "text/plain": [
       "<Figure size 432x288 with 1 Axes>"
      ]
     },
     "metadata": {
      "needs_background": "light"
     },
     "output_type": "display_data"
    }
   ],
   "source": [
    "xTrain = tf.keras.utils.normalize(x_train, axis=1) # normalizing training data\n",
    "xTest = tf.keras.utils.normalize(x_test, axis=1) # normalizing testing data\n",
    "plt.imshow(xTest[0], cmap=\"gray\")\n",
    "plt.show()"
   ]
  },
  {
   "cell_type": "code",
   "execution_count": 6,
   "metadata": {
    "id": "r_VLGiv2g0yF"
   },
   "outputs": [],
   "source": [
    "model = tf.keras.models.Sequential()\n",
    "model.add(tf.keras.layers.Flatten())\n",
    "model.add(tf.keras.layers.Dense(128, activation=tf.nn.relu)) # CNN Layer 1\n",
    "model.add(tf.keras.layers.Dense(128, activation=tf.nn.relu)) # CNN Layer 2\n",
    "model.add(tf.keras.layers.Dense(10, activation=tf.nn.softmax)) # CNN Final Layer"
   ]
  },
  {
   "cell_type": "code",
   "execution_count": 7,
   "metadata": {
    "id": "eyXkmh0uhXzN"
   },
   "outputs": [],
   "source": [
    "model.compile(optimizer=\"adam\", loss=\"sparse_categorical_crossentropy\", metrics=[\"accuracy\"]) # model compiled"
   ]
  },
  {
   "cell_type": "code",
   "execution_count": 8,
   "metadata": {
    "colab": {
     "base_uri": "https://localhost:8080/"
    },
    "id": "IpeJfVF3hisw",
    "outputId": "d927b9f1-6716-4a95-ae8a-dafbb4053060"
   },
   "outputs": [
    {
     "name": "stdout",
     "output_type": "stream",
     "text": [
      "Epoch 1/5\n",
      "1875/1875 [==============================] - 3s 1ms/step - loss: 0.2601 - accuracy: 0.9228\n",
      "Epoch 2/5\n",
      "1875/1875 [==============================] - 3s 1ms/step - loss: 0.1062 - accuracy: 0.9668\n",
      "Epoch 3/5\n",
      "1875/1875 [==============================] - 2s 1ms/step - loss: 0.0718 - accuracy: 0.9772\n",
      "Epoch 4/5\n",
      "1875/1875 [==============================] - 2s 1ms/step - loss: 0.0520 - accuracy: 0.9830\n",
      "Epoch 5/5\n",
      "1875/1875 [==============================] - 2s 1ms/step - loss: 0.0405 - accuracy: 0.9871\n"
     ]
    },
    {
     "data": {
      "text/plain": [
       "<keras.callbacks.History at 0x247fe278ac0>"
      ]
     },
     "execution_count": 8,
     "metadata": {},
     "output_type": "execute_result"
    }
   ],
   "source": [
    "model.fit(x=xTrain, y=y_train, epochs=5) # model fitted "
   ]
  },
  {
   "cell_type": "code",
   "execution_count": 9,
   "metadata": {
    "colab": {
     "base_uri": "https://localhost:8080/"
    },
    "id": "B7DBZypPiKkC",
    "outputId": "3f438699-f735-41e6-9a80-1e0a38ede9d2"
   },
   "outputs": [
    {
     "name": "stdout",
     "output_type": "stream",
     "text": [
      "313/313 [==============================] - 0s 1ms/step - loss: 0.0953 - accuracy: 0.9729\n",
      "\n",
      "Test accuracy:  0.973\n"
     ]
    }
   ],
   "source": [
    "loss, accuracy = model.evaluate(x=xTest, y=y_test)\n",
    "print(\"\\nTest accuracy: \", round(accuracy, 3)) # prints the model's accuracy"
   ]
  },
  {
   "cell_type": "code",
   "execution_count": 10,
   "metadata": {
    "colab": {
     "base_uri": "https://localhost:8080/",
     "height": 265
    },
    "id": "HOZy-EJJijX0",
    "outputId": "4be28f23-a877-4473-f7bb-cd31c325506f"
   },
   "outputs": [
    {
     "data": {
      "image/png": "[encoded data removed]",
      "text/plain": [
       "<Figure size 432x288 with 1 Axes>"
      ]
     },
     "metadata": {
      "needs_background": "light"
     },
     "output_type": "display_data"
    }
   ],
   "source": [
    "plt.imshow(xTest[211], cmap='gray')\n",
    "plt.show()"
   ]
  },
  {
   "cell_type": "markdown",
   "metadata": {},
   "source": [
    "## Testing the model"
   ]
  },
  {
   "cell_type": "code",
   "execution_count": 11,
   "metadata": {
    "id": "XiwU4jtXiwPJ"
   },
   "outputs": [
    {
     "name": "stdout",
     "output_type": "stream",
     "text": [
      "WARNING:tensorflow:Layers in a Sequential model should only have a single input tensor, but we receive a <class 'tuple'> input: (<tf.Tensor 'IteratorGetNext:0' shape=(None, 28, 28) dtype=float32>,)\n",
      "Consider rewriting this model with the Functional API.\n"
     ]
    }
   ],
   "source": [
    "prediction = model.predict([xTest])"
   ]
  },
  {
   "cell_type": "code",
   "execution_count": 12,
   "metadata": {
    "colab": {
     "base_uri": "https://localhost:8080/"
    },
    "id": "-aKatK4sjDBz",
    "outputId": "eceae7fb-e816-4b6a-dfe0-fd6a11a2bc5c"
   },
   "outputs": [
    {
     "data": {
      "text/plain": [
       "5"
      ]
     },
     "execution_count": 12,
     "metadata": {},
     "output_type": "execute_result"
    }
   ],
   "source": [
    "np.argmax(prediction[211])"
   ]
  },
  {
   "cell_type": "markdown",
   "metadata": {},
   "source": [
    "## Running the model on live camera feed with OpenCV"
   ]
  },
  {
   "cell_type": "code",
   "execution_count": 15,
   "metadata": {},
   "outputs": [],
   "source": [
    "def nothing(x):\n",
    "    pass"
   ]
  },
  {
   "cell_type": "code",
   "execution_count": 19,
   "metadata": {},
   "outputs": [],
   "source": [
    "cv2.namedWindow('frame')\n",
    "cv2.createTrackbar('r', 'frame', 0, 255, nothing)\n",
    "cv2.setTrackbarPos('r', 'frame', 23)\n",
    "cap = cv2.VideoCapture(0)\n",
    "currentVal = 0\n",
    "modelOut = 0\n",
    "inData = np.empty((5, 28, 28))\n",
    "\n",
    "while True:\n",
    "    if currentVal == 4:\n",
    "        prediction = model.predict([inData])\n",
    "        modelOut = np.argmax(prediction[currentVal-2])\n",
    "        \n",
    "        inData = np.empty((5, 28, 28))\n",
    "        currentVal = 0\n",
    "        \n",
    "    ret, frame = cap.read()\n",
    "    gray = cv2.cvtColor(frame, cv2.COLOR_BGR2GRAY)\n",
    "    threshold = int(cv2.getTrackbarPos('r', 'frame'))\n",
    "    _, thr = cv2.threshold(gray, threshold, 255, cv2.THRESH_BINARY_INV)\n",
    "    h = 200\n",
    "    w = 200\n",
    "    y = int((frame.shape[0]/2)-h/2)\n",
    "    x = int((frame.shape[1]/2)-w/2)\n",
    "\n",
    "    cv2.rectangle(frame, (x, y), (x + w, y + h), (255, 0, 0), 2)\n",
    "    area = thr[y:y+w, x:x+w]\n",
    "    area = cv2.resize(area, (28, 28))\n",
    "    areaFlattened = tf.keras.utils.normalize(area, axis=1)\n",
    "    # print(areaFlattened.shape)\n",
    "    inData[currentVal] = areaFlattened\n",
    "    cv2.putText(frame, str(modelOut), (30, 30), cv2.FONT_HERSHEY_COMPLEX, 1, (255, 0, 0), 1, cv2.LINE_AA, False)\n",
    "    \n",
    "    cv2.imshow('thr', thr)\n",
    "    cv2.imshow('frame', frame)\n",
    "    currentVal += 1\n",
    "    if cv2.waitKey(20) & 0xff == ord('q'):\n",
    "        cv2.imwrite('area.png', area)\n",
    "        break\n",
    "        \n",
    "        \n",
    "cap.release()\n",
    "cv2.destroyAllWindows()"
   ]
  }
 ],
 "metadata": {
  "colab": {
   "authorship_tag": "ABX9TyPkVTXyWcz2dOQQHQncgu6P",
   "collapsed_sections": [],
   "include_colab_link": true,
   "name": "prediction.ipynb",
   "provenance": []
  },
  "kernelspec": {
   "display_name": "Python 3 (ipykernel)",
   "language": "python",
   "name": "python3"
  },
  "language_info": {
   "codemirror_mode": {
    "name": "ipython",
    "version": 3
   },
   "file_extension": ".py",
   "mimetype": "text/x-python",
   "name": "python",
   "nbconvert_exporter": "python",
   "pygments_lexer": "ipython3",
   "version": "3.9.7"
  }
 },
 "nbformat": 4,
 "nbformat_minor": 1
}
